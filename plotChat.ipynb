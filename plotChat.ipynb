import matplotlib.pyplot as plt
import numpy as np

# Test methods
methods = [
    "dd_1M_bufferio",
    "dd_1M_directio",
    "io_uring_bufferio",
    "io_uring_directio",
    "read_write_bufferio",
    "read_write_directio",
    "splice_pipe"
]

# Time in seconds
real_time = [41.22, 59.38, 42.91, 51.43, 52.39, 60.66, 40.84]
user_time = [0.025, 0.025, 0.009, 0.012, 0.021, 0.013, 0.022]
sys_time = [7.033, 0.781, 2.467, 0.668, 7.315, 1.025, 6.504]

# Average bandwidth in MB/s
bandwidth = [26.1, 18.1, 25.0, 20.9, 20.5, 17.7, 26.3]

x = np.arange(len(methods))
width = 0.25

# Plot real/user/sys times
fig, ax = plt.subplots(figsize=(12,6))
ax.bar(x - width, real_time, width, label='Real Time (s)')
ax.bar(x, user_time, width, label='User Time (s)')
ax.bar(x + width, sys_time, width, label='Sys Time (s)')

ax.set_xlabel('Methods')
ax.set_ylabel('Time (seconds)')
ax.set_title('File Copy Time Comparison')
ax.set_xticks(x)
ax.set_xticklabels(methods, rotation=45, ha='right')
ax.legend()
plt.tight_layout()
plt.show()

# Plot bandwidth
fig2, ax2 = plt.subplots(figsize=(12,6))
ax2.bar(x, bandwidth, width*1.5, color='skyblue')
ax2.set_xlabel('Methods')
ax2.set_ylabel('Average Bandwidth (MB/s)')
ax2.set_title('File Copy Average Bandwidth Comparison')
ax2.set_xticks(x)
ax2.set_xticklabels(methods, rotation=45, ha='right')
plt.tight_layout()
plt.show()
