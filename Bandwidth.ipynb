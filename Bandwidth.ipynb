{
 "cells": [
  {
   "cell_type": "code",
   "execution_count": null,
   "id": "d769d02a",
   "metadata": {
    "vscode": {
     "languageId": "plaintext"
    }
   },
   "outputs": [],
   "source": [
    "import matplotlib.pyplot as plt\n",
    "import numpy as np\n",
    "\n",
    "# Test methods\n",
    "methods = [\n",
    "    \"dd_1M_bufferio\",\n",
    "    \"dd_1M_directio\",\n",
    "    \"io_uring_bufferio\",\n",
    "    \"io_uring_directio\",\n",
    "    \"read_write_bufferio\",\n",
    "    \"read_write_directio\",\n",
    "    \"splice_pipe\"\n",
    "]\n",
    "\n",
    "# Time in seconds\n",
    "real_time = [41.22, 59.38, 42.91, 51.43, 52.39, 60.66, 40.84]\n",
    "user_time = [0.025, 0.025, 0.009, 0.012, 0.021, 0.013, 0.022]\n",
    "sys_time = [7.033, 0.781, 2.467, 0.668, 7.315, 1.025, 6.504]\n",
    "\n",
    "# Average bandwidth in MB/s\n",
    "bandwidth = [26.1, 18.1, 25.0, 20.9, 20.5, 17.7, 26.3]\n",
    "\n",
    "x = np.arange(len(methods))\n",
    "width = 0.25\n",
    "\n",
    "# Plot real/user/sys times\n",
    "fig, ax = plt.subplots(figsize=(12,6))\n",
    "ax.bar(x - width, real_time, width, label='Real Time (s)')\n",
    "ax.bar(x, user_time, width, label='User Time (s)')\n",
    "ax.bar(x + width, sys_time, width, label='Sys Time (s)')\n",
    "\n",
    "ax.set_xlabel('Methods')\n",
    "ax.set_ylabel('Time (seconds)')\n",
    "ax.set_title('File Copy Time Comparison')\n",
    "ax.set_xticks(x)\n",
    "ax.set_xticklabels(methods, rotation=45, ha='right')\n",
    "ax.legend()\n",
    "plt.tight_layout()\n",
    "plt.show()\n",
    "\n",
    "# Plot bandwidth\n",
    "fig2, ax2 = plt.subplots(figsize=(12,6))\n",
    "ax2.bar(x, bandwidth, width*1.5, color='skyblue')\n",
    "ax2.set_xlabel('Methods')\n",
    "ax2.set_ylabel('Average Bandwidth (MB/s)')\n",
    "ax2.set_title('File Copy Average Bandwidth Comparison')\n",
    "ax2.set_xticks(x)\n",
    "ax2.set_xticklabels(methods, rotation=45, ha='right')\n",
    "plt.tight_layout()\n",
    "plt.show()\n"
   ]
  }
 ],
 "metadata": {
  "language_info": {
   "name": "python"
  }
 },
 "nbformat": 4,
 "nbformat_minor": 5
}
